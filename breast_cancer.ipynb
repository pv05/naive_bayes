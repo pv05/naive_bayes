{
 "cells": [
  {
   "cell_type": "markdown",
   "id": "be411f9d",
   "metadata": {},
   "source": [
    "# We are going to predict that, patient have breast cancer or not ? "
   ]
  },
  {
   "cell_type": "code",
   "execution_count": 1,
   "id": "838003d6",
   "metadata": {},
   "outputs": [],
   "source": [
    "import numpy as np\n",
    "import pandas as pd\n",
    "import matplotlib.pyplot as plt\n",
    "import seaborn as sns\n",
    "import warnings #  for avoid unwanted warnings\n",
    "warnings.filterwarnings('ignore')\n",
    "from IPython.core.display import display, HTML # for HTMl tag use in python"
   ]
  },
  {
   "cell_type": "code",
   "execution_count": 2,
   "id": "e47efc72",
   "metadata": {},
   "outputs": [],
   "source": [
    "pd.set_option('display.max_columns',None) # to show maximum number of columns"
   ]
  },
  {
   "cell_type": "code",
   "execution_count": 5,
   "id": "a0d715a0",
   "metadata": {},
   "outputs": [],
   "source": [
    "from sklearn.datasets import load_breast_cancer\n",
    "data = load_breast_cancer()"
   ]
  },
  {
   "cell_type": "code",
   "execution_count": 13,
   "id": "31f26839",
   "metadata": {},
   "outputs": [
    {
     "data": {
      "text/plain": [
       "array(['mean radius', 'mean texture', 'mean perimeter', 'mean area',\n",
       "       'mean smoothness', 'mean compactness', 'mean concavity',\n",
       "       'mean concave points', 'mean symmetry', 'mean fractal dimension',\n",
       "       'radius error', 'texture error', 'perimeter error', 'area error',\n",
       "       'smoothness error', 'compactness error', 'concavity error',\n",
       "       'concave points error', 'symmetry error',\n",
       "       'fractal dimension error', 'worst radius', 'worst texture',\n",
       "       'worst perimeter', 'worst area', 'worst smoothness',\n",
       "       'worst compactness', 'worst concavity', 'worst concave points',\n",
       "       'worst symmetry', 'worst fractal dimension'], dtype='<U23')"
      ]
     },
     "execution_count": 13,
     "metadata": {},
     "output_type": "execute_result"
    }
   ],
   "source": [
    "data.feature_names"
   ]
  },
  {
   "cell_type": "code",
   "execution_count": 14,
   "id": "acd13b5b",
   "metadata": {},
   "outputs": [
    {
     "data": {
      "text/plain": [
       "array(['malignant', 'benign'], dtype='<U9')"
      ]
     },
     "execution_count": 14,
     "metadata": {},
     "output_type": "execute_result"
    }
   ],
   "source": [
    "data.target_names"
   ]
  },
  {
   "cell_type": "code",
   "execution_count": 16,
   "id": "f6cf4ffc",
   "metadata": {},
   "outputs": [],
   "source": [
    "# convert into dataframe\n",
    "df = pd.DataFrame(np.c_[data.data, data.target], columns=[list(data.feature_names)+['target']])"
   ]
  },
  {
   "cell_type": "code",
   "execution_count": 17,
   "id": "9a7a9c0f",
   "metadata": {},
   "outputs": [
    {
     "data": {
      "text/html": [
       "<div>\n",
       "<style scoped>\n",
       "    .dataframe tbody tr th:only-of-type {\n",
       "        vertical-align: middle;\n",
       "    }\n",
       "\n",
       "    .dataframe tbody tr th {\n",
       "        vertical-align: top;\n",
       "    }\n",
       "\n",
       "    .dataframe thead tr th {\n",
       "        text-align: left;\n",
       "    }\n",
       "</style>\n",
       "<table border=\"1\" class=\"dataframe\">\n",
       "  <thead>\n",
       "    <tr>\n",
       "      <th></th>\n",
       "      <th>mean radius</th>\n",
       "      <th>mean texture</th>\n",
       "      <th>mean perimeter</th>\n",
       "      <th>mean area</th>\n",
       "      <th>mean smoothness</th>\n",
       "      <th>mean compactness</th>\n",
       "      <th>mean concavity</th>\n",
       "      <th>mean concave points</th>\n",
       "      <th>mean symmetry</th>\n",
       "      <th>mean fractal dimension</th>\n",
       "      <th>radius error</th>\n",
       "      <th>texture error</th>\n",
       "      <th>perimeter error</th>\n",
       "      <th>area error</th>\n",
       "      <th>smoothness error</th>\n",
       "      <th>compactness error</th>\n",
       "      <th>concavity error</th>\n",
       "      <th>concave points error</th>\n",
       "      <th>symmetry error</th>\n",
       "      <th>fractal dimension error</th>\n",
       "      <th>worst radius</th>\n",
       "      <th>worst texture</th>\n",
       "      <th>worst perimeter</th>\n",
       "      <th>worst area</th>\n",
       "      <th>worst smoothness</th>\n",
       "      <th>worst compactness</th>\n",
       "      <th>worst concavity</th>\n",
       "      <th>worst concave points</th>\n",
       "      <th>worst symmetry</th>\n",
       "      <th>worst fractal dimension</th>\n",
       "      <th>target</th>\n",
       "    </tr>\n",
       "  </thead>\n",
       "  <tbody>\n",
       "    <tr>\n",
       "      <th>0</th>\n",
       "      <td>17.99</td>\n",
       "      <td>10.38</td>\n",
       "      <td>122.80</td>\n",
       "      <td>1001.0</td>\n",
       "      <td>0.11840</td>\n",
       "      <td>0.27760</td>\n",
       "      <td>0.30010</td>\n",
       "      <td>0.14710</td>\n",
       "      <td>0.2419</td>\n",
       "      <td>0.07871</td>\n",
       "      <td>1.0950</td>\n",
       "      <td>0.9053</td>\n",
       "      <td>8.589</td>\n",
       "      <td>153.40</td>\n",
       "      <td>0.006399</td>\n",
       "      <td>0.04904</td>\n",
       "      <td>0.05373</td>\n",
       "      <td>0.01587</td>\n",
       "      <td>0.03003</td>\n",
       "      <td>0.006193</td>\n",
       "      <td>25.380</td>\n",
       "      <td>17.33</td>\n",
       "      <td>184.60</td>\n",
       "      <td>2019.0</td>\n",
       "      <td>0.16220</td>\n",
       "      <td>0.66560</td>\n",
       "      <td>0.7119</td>\n",
       "      <td>0.2654</td>\n",
       "      <td>0.4601</td>\n",
       "      <td>0.11890</td>\n",
       "      <td>0.0</td>\n",
       "    </tr>\n",
       "    <tr>\n",
       "      <th>1</th>\n",
       "      <td>20.57</td>\n",
       "      <td>17.77</td>\n",
       "      <td>132.90</td>\n",
       "      <td>1326.0</td>\n",
       "      <td>0.08474</td>\n",
       "      <td>0.07864</td>\n",
       "      <td>0.08690</td>\n",
       "      <td>0.07017</td>\n",
       "      <td>0.1812</td>\n",
       "      <td>0.05667</td>\n",
       "      <td>0.5435</td>\n",
       "      <td>0.7339</td>\n",
       "      <td>3.398</td>\n",
       "      <td>74.08</td>\n",
       "      <td>0.005225</td>\n",
       "      <td>0.01308</td>\n",
       "      <td>0.01860</td>\n",
       "      <td>0.01340</td>\n",
       "      <td>0.01389</td>\n",
       "      <td>0.003532</td>\n",
       "      <td>24.990</td>\n",
       "      <td>23.41</td>\n",
       "      <td>158.80</td>\n",
       "      <td>1956.0</td>\n",
       "      <td>0.12380</td>\n",
       "      <td>0.18660</td>\n",
       "      <td>0.2416</td>\n",
       "      <td>0.1860</td>\n",
       "      <td>0.2750</td>\n",
       "      <td>0.08902</td>\n",
       "      <td>0.0</td>\n",
       "    </tr>\n",
       "    <tr>\n",
       "      <th>2</th>\n",
       "      <td>19.69</td>\n",
       "      <td>21.25</td>\n",
       "      <td>130.00</td>\n",
       "      <td>1203.0</td>\n",
       "      <td>0.10960</td>\n",
       "      <td>0.15990</td>\n",
       "      <td>0.19740</td>\n",
       "      <td>0.12790</td>\n",
       "      <td>0.2069</td>\n",
       "      <td>0.05999</td>\n",
       "      <td>0.7456</td>\n",
       "      <td>0.7869</td>\n",
       "      <td>4.585</td>\n",
       "      <td>94.03</td>\n",
       "      <td>0.006150</td>\n",
       "      <td>0.04006</td>\n",
       "      <td>0.03832</td>\n",
       "      <td>0.02058</td>\n",
       "      <td>0.02250</td>\n",
       "      <td>0.004571</td>\n",
       "      <td>23.570</td>\n",
       "      <td>25.53</td>\n",
       "      <td>152.50</td>\n",
       "      <td>1709.0</td>\n",
       "      <td>0.14440</td>\n",
       "      <td>0.42450</td>\n",
       "      <td>0.4504</td>\n",
       "      <td>0.2430</td>\n",
       "      <td>0.3613</td>\n",
       "      <td>0.08758</td>\n",
       "      <td>0.0</td>\n",
       "    </tr>\n",
       "    <tr>\n",
       "      <th>3</th>\n",
       "      <td>11.42</td>\n",
       "      <td>20.38</td>\n",
       "      <td>77.58</td>\n",
       "      <td>386.1</td>\n",
       "      <td>0.14250</td>\n",
       "      <td>0.28390</td>\n",
       "      <td>0.24140</td>\n",
       "      <td>0.10520</td>\n",
       "      <td>0.2597</td>\n",
       "      <td>0.09744</td>\n",
       "      <td>0.4956</td>\n",
       "      <td>1.1560</td>\n",
       "      <td>3.445</td>\n",
       "      <td>27.23</td>\n",
       "      <td>0.009110</td>\n",
       "      <td>0.07458</td>\n",
       "      <td>0.05661</td>\n",
       "      <td>0.01867</td>\n",
       "      <td>0.05963</td>\n",
       "      <td>0.009208</td>\n",
       "      <td>14.910</td>\n",
       "      <td>26.50</td>\n",
       "      <td>98.87</td>\n",
       "      <td>567.7</td>\n",
       "      <td>0.20980</td>\n",
       "      <td>0.86630</td>\n",
       "      <td>0.6869</td>\n",
       "      <td>0.2575</td>\n",
       "      <td>0.6638</td>\n",
       "      <td>0.17300</td>\n",
       "      <td>0.0</td>\n",
       "    </tr>\n",
       "    <tr>\n",
       "      <th>4</th>\n",
       "      <td>20.29</td>\n",
       "      <td>14.34</td>\n",
       "      <td>135.10</td>\n",
       "      <td>1297.0</td>\n",
       "      <td>0.10030</td>\n",
       "      <td>0.13280</td>\n",
       "      <td>0.19800</td>\n",
       "      <td>0.10430</td>\n",
       "      <td>0.1809</td>\n",
       "      <td>0.05883</td>\n",
       "      <td>0.7572</td>\n",
       "      <td>0.7813</td>\n",
       "      <td>5.438</td>\n",
       "      <td>94.44</td>\n",
       "      <td>0.011490</td>\n",
       "      <td>0.02461</td>\n",
       "      <td>0.05688</td>\n",
       "      <td>0.01885</td>\n",
       "      <td>0.01756</td>\n",
       "      <td>0.005115</td>\n",
       "      <td>22.540</td>\n",
       "      <td>16.67</td>\n",
       "      <td>152.20</td>\n",
       "      <td>1575.0</td>\n",
       "      <td>0.13740</td>\n",
       "      <td>0.20500</td>\n",
       "      <td>0.4000</td>\n",
       "      <td>0.1625</td>\n",
       "      <td>0.2364</td>\n",
       "      <td>0.07678</td>\n",
       "      <td>0.0</td>\n",
       "    </tr>\n",
       "    <tr>\n",
       "      <th>...</th>\n",
       "      <td>...</td>\n",
       "      <td>...</td>\n",
       "      <td>...</td>\n",
       "      <td>...</td>\n",
       "      <td>...</td>\n",
       "      <td>...</td>\n",
       "      <td>...</td>\n",
       "      <td>...</td>\n",
       "      <td>...</td>\n",
       "      <td>...</td>\n",
       "      <td>...</td>\n",
       "      <td>...</td>\n",
       "      <td>...</td>\n",
       "      <td>...</td>\n",
       "      <td>...</td>\n",
       "      <td>...</td>\n",
       "      <td>...</td>\n",
       "      <td>...</td>\n",
       "      <td>...</td>\n",
       "      <td>...</td>\n",
       "      <td>...</td>\n",
       "      <td>...</td>\n",
       "      <td>...</td>\n",
       "      <td>...</td>\n",
       "      <td>...</td>\n",
       "      <td>...</td>\n",
       "      <td>...</td>\n",
       "      <td>...</td>\n",
       "      <td>...</td>\n",
       "      <td>...</td>\n",
       "      <td>...</td>\n",
       "    </tr>\n",
       "    <tr>\n",
       "      <th>564</th>\n",
       "      <td>21.56</td>\n",
       "      <td>22.39</td>\n",
       "      <td>142.00</td>\n",
       "      <td>1479.0</td>\n",
       "      <td>0.11100</td>\n",
       "      <td>0.11590</td>\n",
       "      <td>0.24390</td>\n",
       "      <td>0.13890</td>\n",
       "      <td>0.1726</td>\n",
       "      <td>0.05623</td>\n",
       "      <td>1.1760</td>\n",
       "      <td>1.2560</td>\n",
       "      <td>7.673</td>\n",
       "      <td>158.70</td>\n",
       "      <td>0.010300</td>\n",
       "      <td>0.02891</td>\n",
       "      <td>0.05198</td>\n",
       "      <td>0.02454</td>\n",
       "      <td>0.01114</td>\n",
       "      <td>0.004239</td>\n",
       "      <td>25.450</td>\n",
       "      <td>26.40</td>\n",
       "      <td>166.10</td>\n",
       "      <td>2027.0</td>\n",
       "      <td>0.14100</td>\n",
       "      <td>0.21130</td>\n",
       "      <td>0.4107</td>\n",
       "      <td>0.2216</td>\n",
       "      <td>0.2060</td>\n",
       "      <td>0.07115</td>\n",
       "      <td>0.0</td>\n",
       "    </tr>\n",
       "    <tr>\n",
       "      <th>565</th>\n",
       "      <td>20.13</td>\n",
       "      <td>28.25</td>\n",
       "      <td>131.20</td>\n",
       "      <td>1261.0</td>\n",
       "      <td>0.09780</td>\n",
       "      <td>0.10340</td>\n",
       "      <td>0.14400</td>\n",
       "      <td>0.09791</td>\n",
       "      <td>0.1752</td>\n",
       "      <td>0.05533</td>\n",
       "      <td>0.7655</td>\n",
       "      <td>2.4630</td>\n",
       "      <td>5.203</td>\n",
       "      <td>99.04</td>\n",
       "      <td>0.005769</td>\n",
       "      <td>0.02423</td>\n",
       "      <td>0.03950</td>\n",
       "      <td>0.01678</td>\n",
       "      <td>0.01898</td>\n",
       "      <td>0.002498</td>\n",
       "      <td>23.690</td>\n",
       "      <td>38.25</td>\n",
       "      <td>155.00</td>\n",
       "      <td>1731.0</td>\n",
       "      <td>0.11660</td>\n",
       "      <td>0.19220</td>\n",
       "      <td>0.3215</td>\n",
       "      <td>0.1628</td>\n",
       "      <td>0.2572</td>\n",
       "      <td>0.06637</td>\n",
       "      <td>0.0</td>\n",
       "    </tr>\n",
       "    <tr>\n",
       "      <th>566</th>\n",
       "      <td>16.60</td>\n",
       "      <td>28.08</td>\n",
       "      <td>108.30</td>\n",
       "      <td>858.1</td>\n",
       "      <td>0.08455</td>\n",
       "      <td>0.10230</td>\n",
       "      <td>0.09251</td>\n",
       "      <td>0.05302</td>\n",
       "      <td>0.1590</td>\n",
       "      <td>0.05648</td>\n",
       "      <td>0.4564</td>\n",
       "      <td>1.0750</td>\n",
       "      <td>3.425</td>\n",
       "      <td>48.55</td>\n",
       "      <td>0.005903</td>\n",
       "      <td>0.03731</td>\n",
       "      <td>0.04730</td>\n",
       "      <td>0.01557</td>\n",
       "      <td>0.01318</td>\n",
       "      <td>0.003892</td>\n",
       "      <td>18.980</td>\n",
       "      <td>34.12</td>\n",
       "      <td>126.70</td>\n",
       "      <td>1124.0</td>\n",
       "      <td>0.11390</td>\n",
       "      <td>0.30940</td>\n",
       "      <td>0.3403</td>\n",
       "      <td>0.1418</td>\n",
       "      <td>0.2218</td>\n",
       "      <td>0.07820</td>\n",
       "      <td>0.0</td>\n",
       "    </tr>\n",
       "    <tr>\n",
       "      <th>567</th>\n",
       "      <td>20.60</td>\n",
       "      <td>29.33</td>\n",
       "      <td>140.10</td>\n",
       "      <td>1265.0</td>\n",
       "      <td>0.11780</td>\n",
       "      <td>0.27700</td>\n",
       "      <td>0.35140</td>\n",
       "      <td>0.15200</td>\n",
       "      <td>0.2397</td>\n",
       "      <td>0.07016</td>\n",
       "      <td>0.7260</td>\n",
       "      <td>1.5950</td>\n",
       "      <td>5.772</td>\n",
       "      <td>86.22</td>\n",
       "      <td>0.006522</td>\n",
       "      <td>0.06158</td>\n",
       "      <td>0.07117</td>\n",
       "      <td>0.01664</td>\n",
       "      <td>0.02324</td>\n",
       "      <td>0.006185</td>\n",
       "      <td>25.740</td>\n",
       "      <td>39.42</td>\n",
       "      <td>184.60</td>\n",
       "      <td>1821.0</td>\n",
       "      <td>0.16500</td>\n",
       "      <td>0.86810</td>\n",
       "      <td>0.9387</td>\n",
       "      <td>0.2650</td>\n",
       "      <td>0.4087</td>\n",
       "      <td>0.12400</td>\n",
       "      <td>0.0</td>\n",
       "    </tr>\n",
       "    <tr>\n",
       "      <th>568</th>\n",
       "      <td>7.76</td>\n",
       "      <td>24.54</td>\n",
       "      <td>47.92</td>\n",
       "      <td>181.0</td>\n",
       "      <td>0.05263</td>\n",
       "      <td>0.04362</td>\n",
       "      <td>0.00000</td>\n",
       "      <td>0.00000</td>\n",
       "      <td>0.1587</td>\n",
       "      <td>0.05884</td>\n",
       "      <td>0.3857</td>\n",
       "      <td>1.4280</td>\n",
       "      <td>2.548</td>\n",
       "      <td>19.15</td>\n",
       "      <td>0.007189</td>\n",
       "      <td>0.00466</td>\n",
       "      <td>0.00000</td>\n",
       "      <td>0.00000</td>\n",
       "      <td>0.02676</td>\n",
       "      <td>0.002783</td>\n",
       "      <td>9.456</td>\n",
       "      <td>30.37</td>\n",
       "      <td>59.16</td>\n",
       "      <td>268.6</td>\n",
       "      <td>0.08996</td>\n",
       "      <td>0.06444</td>\n",
       "      <td>0.0000</td>\n",
       "      <td>0.0000</td>\n",
       "      <td>0.2871</td>\n",
       "      <td>0.07039</td>\n",
       "      <td>1.0</td>\n",
       "    </tr>\n",
       "  </tbody>\n",
       "</table>\n",
       "<p>569 rows × 31 columns</p>\n",
       "</div>"
      ],
      "text/plain": [
       "    mean radius mean texture mean perimeter mean area mean smoothness  \\\n",
       "0         17.99        10.38         122.80    1001.0         0.11840   \n",
       "1         20.57        17.77         132.90    1326.0         0.08474   \n",
       "2         19.69        21.25         130.00    1203.0         0.10960   \n",
       "3         11.42        20.38          77.58     386.1         0.14250   \n",
       "4         20.29        14.34         135.10    1297.0         0.10030   \n",
       "..          ...          ...            ...       ...             ...   \n",
       "564       21.56        22.39         142.00    1479.0         0.11100   \n",
       "565       20.13        28.25         131.20    1261.0         0.09780   \n",
       "566       16.60        28.08         108.30     858.1         0.08455   \n",
       "567       20.60        29.33         140.10    1265.0         0.11780   \n",
       "568        7.76        24.54          47.92     181.0         0.05263   \n",
       "\n",
       "    mean compactness mean concavity mean concave points mean symmetry  \\\n",
       "0            0.27760        0.30010             0.14710        0.2419   \n",
       "1            0.07864        0.08690             0.07017        0.1812   \n",
       "2            0.15990        0.19740             0.12790        0.2069   \n",
       "3            0.28390        0.24140             0.10520        0.2597   \n",
       "4            0.13280        0.19800             0.10430        0.1809   \n",
       "..               ...            ...                 ...           ...   \n",
       "564          0.11590        0.24390             0.13890        0.1726   \n",
       "565          0.10340        0.14400             0.09791        0.1752   \n",
       "566          0.10230        0.09251             0.05302        0.1590   \n",
       "567          0.27700        0.35140             0.15200        0.2397   \n",
       "568          0.04362        0.00000             0.00000        0.1587   \n",
       "\n",
       "    mean fractal dimension radius error texture error perimeter error  \\\n",
       "0                  0.07871       1.0950        0.9053           8.589   \n",
       "1                  0.05667       0.5435        0.7339           3.398   \n",
       "2                  0.05999       0.7456        0.7869           4.585   \n",
       "3                  0.09744       0.4956        1.1560           3.445   \n",
       "4                  0.05883       0.7572        0.7813           5.438   \n",
       "..                     ...          ...           ...             ...   \n",
       "564                0.05623       1.1760        1.2560           7.673   \n",
       "565                0.05533       0.7655        2.4630           5.203   \n",
       "566                0.05648       0.4564        1.0750           3.425   \n",
       "567                0.07016       0.7260        1.5950           5.772   \n",
       "568                0.05884       0.3857        1.4280           2.548   \n",
       "\n",
       "    area error smoothness error compactness error concavity error  \\\n",
       "0       153.40         0.006399           0.04904         0.05373   \n",
       "1        74.08         0.005225           0.01308         0.01860   \n",
       "2        94.03         0.006150           0.04006         0.03832   \n",
       "3        27.23         0.009110           0.07458         0.05661   \n",
       "4        94.44         0.011490           0.02461         0.05688   \n",
       "..         ...              ...               ...             ...   \n",
       "564     158.70         0.010300           0.02891         0.05198   \n",
       "565      99.04         0.005769           0.02423         0.03950   \n",
       "566      48.55         0.005903           0.03731         0.04730   \n",
       "567      86.22         0.006522           0.06158         0.07117   \n",
       "568      19.15         0.007189           0.00466         0.00000   \n",
       "\n",
       "    concave points error symmetry error fractal dimension error worst radius  \\\n",
       "0                0.01587        0.03003                0.006193       25.380   \n",
       "1                0.01340        0.01389                0.003532       24.990   \n",
       "2                0.02058        0.02250                0.004571       23.570   \n",
       "3                0.01867        0.05963                0.009208       14.910   \n",
       "4                0.01885        0.01756                0.005115       22.540   \n",
       "..                   ...            ...                     ...          ...   \n",
       "564              0.02454        0.01114                0.004239       25.450   \n",
       "565              0.01678        0.01898                0.002498       23.690   \n",
       "566              0.01557        0.01318                0.003892       18.980   \n",
       "567              0.01664        0.02324                0.006185       25.740   \n",
       "568              0.00000        0.02676                0.002783        9.456   \n",
       "\n",
       "    worst texture worst perimeter worst area worst smoothness  \\\n",
       "0           17.33          184.60     2019.0          0.16220   \n",
       "1           23.41          158.80     1956.0          0.12380   \n",
       "2           25.53          152.50     1709.0          0.14440   \n",
       "3           26.50           98.87      567.7          0.20980   \n",
       "4           16.67          152.20     1575.0          0.13740   \n",
       "..            ...             ...        ...              ...   \n",
       "564         26.40          166.10     2027.0          0.14100   \n",
       "565         38.25          155.00     1731.0          0.11660   \n",
       "566         34.12          126.70     1124.0          0.11390   \n",
       "567         39.42          184.60     1821.0          0.16500   \n",
       "568         30.37           59.16      268.6          0.08996   \n",
       "\n",
       "    worst compactness worst concavity worst concave points worst symmetry  \\\n",
       "0             0.66560          0.7119               0.2654         0.4601   \n",
       "1             0.18660          0.2416               0.1860         0.2750   \n",
       "2             0.42450          0.4504               0.2430         0.3613   \n",
       "3             0.86630          0.6869               0.2575         0.6638   \n",
       "4             0.20500          0.4000               0.1625         0.2364   \n",
       "..                ...             ...                  ...            ...   \n",
       "564           0.21130          0.4107               0.2216         0.2060   \n",
       "565           0.19220          0.3215               0.1628         0.2572   \n",
       "566           0.30940          0.3403               0.1418         0.2218   \n",
       "567           0.86810          0.9387               0.2650         0.4087   \n",
       "568           0.06444          0.0000               0.0000         0.2871   \n",
       "\n",
       "    worst fractal dimension target  \n",
       "0                   0.11890    0.0  \n",
       "1                   0.08902    0.0  \n",
       "2                   0.08758    0.0  \n",
       "3                   0.17300    0.0  \n",
       "4                   0.07678    0.0  \n",
       "..                      ...    ...  \n",
       "564                 0.07115    0.0  \n",
       "565                 0.06637    0.0  \n",
       "566                 0.07820    0.0  \n",
       "567                 0.12400    0.0  \n",
       "568                 0.07039    1.0  \n",
       "\n",
       "[569 rows x 31 columns]"
      ]
     },
     "execution_count": 17,
     "metadata": {},
     "output_type": "execute_result"
    }
   ],
   "source": [
    "df "
   ]
  },
  {
   "cell_type": "code",
   "execution_count": 21,
   "id": "8aabb861",
   "metadata": {},
   "outputs": [],
   "source": [
    "x = df.drop(columns='target')\n",
    "y =df['target']"
   ]
  },
  {
   "cell_type": "code",
   "execution_count": 32,
   "id": "67c3814a",
   "metadata": {},
   "outputs": [],
   "source": [
    "from sklearn.model_selection import train_test_split\n",
    "x_train, x_test, y_train, y_test = train_test_split(x,y,random_state=46,test_size=0.2)"
   ]
  },
  {
   "cell_type": "code",
   "execution_count": 33,
   "id": "ce005cd0",
   "metadata": {},
   "outputs": [
    {
     "data": {
      "text/plain": [
       "((455, 30), (455, 1), (114, 30), (114, 1))"
      ]
     },
     "execution_count": 33,
     "metadata": {},
     "output_type": "execute_result"
    }
   ],
   "source": [
    "x_train.shape, y_train.shape, x_test.shape, y_test.shape"
   ]
  },
  {
   "cell_type": "markdown",
   "id": "f11df669",
   "metadata": {},
   "source": [
    "# Train Naive Bayes Algorithm"
   ]
  },
  {
   "cell_type": "code",
   "execution_count": 34,
   "id": "d88cf3b3",
   "metadata": {},
   "outputs": [],
   "source": [
    "from sklearn.naive_bayes import GaussianNB"
   ]
  },
  {
   "cell_type": "code",
   "execution_count": 35,
   "id": "1699f923",
   "metadata": {},
   "outputs": [
    {
     "data": {
      "text/plain": [
       "GaussianNB()"
      ]
     },
     "execution_count": 35,
     "metadata": {},
     "output_type": "execute_result"
    }
   ],
   "source": [
    "# train classifer\n",
    "classifier = GaussianNB()\n",
    "classifier.fit(x_train,y_train)"
   ]
  },
  {
   "cell_type": "code",
   "execution_count": 36,
   "id": "81a30d2c",
   "metadata": {},
   "outputs": [
    {
     "data": {
      "text/html": [
       "Model Accuracy : <b>94.74%</b>"
      ],
      "text/plain": [
       "<IPython.core.display.HTML object>"
      ]
     },
     "execution_count": 36,
     "metadata": {},
     "output_type": "execute_result"
    }
   ],
   "source": [
    "model_accuracy=round((classifier.score(x_test,y_test)*100),2)\n",
    "HTML(f'Model Accuracy : <b>{ model_accuracy }%</b>')"
   ]
  },
  {
   "cell_type": "code",
   "execution_count": 37,
   "id": "81516931",
   "metadata": {},
   "outputs": [
    {
     "data": {
      "text/html": [
       "Predicted score : <b>94.74%</b>"
      ],
      "text/plain": [
       "<IPython.core.display.HTML object>"
      ]
     },
     "metadata": {},
     "output_type": "display_data"
    },
    {
     "name": "stdout",
     "output_type": "stream",
     "text": [
      "              precision    recall  f1-score   support\n",
      "\n",
      "         0.0       0.93      0.93      0.93        44\n",
      "         1.0       0.96      0.96      0.96        70\n",
      "\n",
      "    accuracy                           0.95       114\n",
      "   macro avg       0.94      0.94      0.94       114\n",
      "weighted avg       0.95      0.95      0.95       114\n",
      "\n"
     ]
    }
   ],
   "source": [
    "#predict model for our test data\n",
    "from sklearn import metrics \n",
    "\n",
    "y_predict=classifier.predict(x_test)\n",
    "display(HTML(f'Predicted score : <b>{model_accuracy}%</b>'))\n",
    "\n",
    "from sklearn.metrics import classification_report\n",
    "print(classification_report(y_test, y_predict))"
   ]
  },
  {
   "cell_type": "markdown",
   "id": "fd309ab5",
   "metadata": {},
   "source": [
    "# Check manual data"
   ]
  },
  {
   "cell_type": "code",
   "execution_count": 40,
   "id": "412b2749",
   "metadata": {},
   "outputs": [
    {
     "data": {
      "text/html": [
       "I am <b>94.74%</b> Sure, that Patient Has <b> No Cancer</b> ( benign )"
      ],
      "text/plain": [
       "<IPython.core.display.HTML object>"
      ]
     },
     "metadata": {},
     "output_type": "display_data"
    }
   ],
   "source": [
    "x_checkdata=np.array([df.iloc[21,0:-1].values]) # take a data in array from for all indepent variable or x\n",
    "y_checkdata=np.array([df.iloc[21,[-1]].values]) # take a data ina array from for depenet variable or y \n",
    "\n",
    "# data.iloc[4,0:-1].values ------ it means all row 4th all data expect last one  \n",
    "\n",
    "y_predict_checkdata=classifier.predict(x_checkdata)\n",
    "#dataset.target_names #array(['malignant', 'benign'])\n",
    "\n",
    "if y_predict_checkdata == 0:\n",
    "    display(HTML(f'I am <b>{model_accuracy}%</b> Sure, that Patient Has <b>Cancer</b> ( {data.target_names[0]} )'))\n",
    "else:\n",
    "    display(HTML(f'I am <b>{model_accuracy}%</b> Sure, that Patient Has <b> No Cancer</b> ( {data.target_names[1]} )'))"
   ]
  },
  {
   "cell_type": "markdown",
   "id": "72e52438",
   "metadata": {},
   "source": [
    "# Cross verification our manual data is correct or not ?"
   ]
  },
  {
   "cell_type": "code",
   "execution_count": 41,
   "id": "b2ab8c9b",
   "metadata": {},
   "outputs": [
    {
     "data": {
      "text/html": [
       "Our Above Prediction is <b>Correct</b>"
      ],
      "text/plain": [
       "<IPython.core.display.HTML object>"
      ]
     },
     "metadata": {},
     "output_type": "display_data"
    }
   ],
   "source": [
    "# display(HTML(f'Our Above Prediction is <b>{round(metrics.accuracy_score(y_checkdata,y_predict),4)*100}%</b> Correct'))\n",
    "if y_checkdata == y_predict_checkdata:\n",
    "    display(HTML(f'Our Above Prediction is <b>Correct</b>'))\n",
    "else:\n",
    "    display(HTML(f'Our Above Prediction is <b>Wrong</b>'))"
   ]
  },
  {
   "cell_type": "code",
   "execution_count": 42,
   "id": "59407416",
   "metadata": {},
   "outputs": [
    {
     "data": {
      "text/plain": [
       "array([[41,  3],\n",
       "       [ 3, 67]], dtype=int64)"
      ]
     },
     "execution_count": 42,
     "metadata": {},
     "output_type": "execute_result"
    }
   ],
   "source": [
    "from sklearn.metrics import confusion_matrix \n",
    "cm=confusion_matrix(y_test,y_predict)\n",
    "cm"
   ]
  },
  {
   "cell_type": "code",
   "execution_count": 44,
   "id": "e9d75e06",
   "metadata": {},
   "outputs": [
    {
     "data": {
      "image/png": "[encoded data removed]",
      "text/plain": [
       "<Figure size 648x504 with 2 Axes>"
      ]
     },
     "metadata": {
      "needs_background": "light"
     },
     "output_type": "display_data"
    }
   ],
   "source": [
    "conf_matrix=pd.DataFrame(data=cm,columns=['Cancer','No_Cancer'],index=['Cancer','No_Cancer'])\n",
    "# conf_matrix=pd.DataFrame(data=cm,columns=['Predicted: Cancer','Predicted: No_Cancer'],index=['Actual: Cancer','Actual: No_Cancer'])\n",
    "plt.figure(figsize = (9,7))\n",
    "sns.heatmap(conf_matrix, annot=True,fmt='d',cmap=\"YlGnBu\");\n",
    "plt.xlabel('------------------------ Predicted values ------------------------')\n",
    "plt.ylabel('------------------------ Actual values ---------------------------')\n",
    "plt.rcParams.update({'font.size': 17})"
   ]
  },
  {
   "cell_type": "markdown",
   "id": "276e2068",
   "metadata": {},
   "source": [
    "# why we should take gaussianNB not multinomialNB and BernouliNB ?"
   ]
  },
  {
   "cell_type": "code",
   "execution_count": 48,
   "id": "f7bcae09",
   "metadata": {},
   "outputs": [],
   "source": [
    "from sklearn.naive_bayes import MultinomialNB"
   ]
  },
  {
   "cell_type": "code",
   "execution_count": 68,
   "id": "b1326c83",
   "metadata": {},
   "outputs": [
    {
     "data": {
      "text/html": [
       "MultinomialNB Model accuracy is <b>91.23</b>%"
      ],
      "text/plain": [
       "<IPython.core.display.HTML object>"
      ]
     },
     "metadata": {},
     "output_type": "display_data"
    }
   ],
   "source": [
    "classifier_Multi = MultinomialNB()\n",
    "classifier_Multi.fit(x_train,y_train)\n",
    "display(HTML(f'MultinomialNB Model accuracy is <b>{round((classifier_Multi.score(x_test,y_test))*100,2)}</b>%'))"
   ]
  },
  {
   "cell_type": "code",
   "execution_count": 47,
   "id": "075a4fea",
   "metadata": {},
   "outputs": [],
   "source": [
    "from sklearn.naive_bayes import BernoulliNB"
   ]
  },
  {
   "cell_type": "code",
   "execution_count": 67,
   "id": "03b4fb72",
   "metadata": {},
   "outputs": [
    {
     "data": {
      "text/html": [
       "BernoulliNB Model accuracy is <b>61.4</b>%"
      ],
      "text/plain": [
       "<IPython.core.display.HTML object>"
      ]
     },
     "metadata": {},
     "output_type": "display_data"
    }
   ],
   "source": [
    "classifier_Bernaouli = BernoulliNB()\n",
    "classifier_Bernaouli.fit(x_train,y_train)\n",
    "display(HTML(f'BernoulliNB Model accuracy is <b>{round((classifier_Bernaouli.score(x_test,y_test))*100,2)}</b>%')) "
   ]
  },
  {
   "cell_type": "markdown",
   "id": "cab5cc6c",
   "metadata": {},
   "source": [
    "# GaussinaNb have more accurate then multinomial and bernoauli "
   ]
  },
  {
   "cell_type": "code",
   "execution_count": null,
   "id": "be9264dd",
   "metadata": {},
   "outputs": [],
   "source": []
  }
 ],
 "metadata": {
  "kernelspec": {
   "display_name": "Python 3",
   "language": "python",
   "name": "python3"
  },
  "language_info": {
   "codemirror_mode": {
    "name": "ipython",
    "version": 3
   },
   "file_extension": ".py",
   "mimetype": "text/x-python",
   "name": "python",
   "nbconvert_exporter": "python",
   "pygments_lexer": "ipython3",
   "version": "3.8.8"
  },
  "toc": {
   "base_numbering": 1,
   "nav_menu": {},
   "number_sections": false,
   "sideBar": true,
   "skip_h1_title": false,
   "title_cell": "Table of Contents",
   "title_sidebar": "Contents",
   "toc_cell": false,
   "toc_position": {},
   "toc_section_display": true,
   "toc_window_display": false
  }
 },
 "nbformat": 4,
 "nbformat_minor": 5
}
